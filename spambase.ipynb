{
 "cells": [
  {
   "cell_type": "markdown",
   "id": "629e4a47",
   "metadata": {},
   "source": [
    "# Spambase Classification\n",
    "\n",
    "**Name:** Anish Talluri  \n",
    "**Date:** October 20, 2025\n",
    "\n",
    "---\n",
    "\n",
    "## Problem Overview\n",
    "In this notebook, I apply three linear classification models to the Spambase dataset from the UCI Machine Learning Repository. The goal is to classify emails as spam or non-spam based on 57 features (word frequencies, character frequencies, and capital letter statistics).\n",
    "\n",
    "## Dataset Information\n",
    "- **Source:** UCI Machine Learning Repository\n",
    "- **Samples:** 4,601 emails\n",
    "- **Features:** 57 numeric features\n",
    "- **Classes:** Binary (0 = Not Spam, 1 = Spam)\n",
    "- **Split:** 80% training, 10% development, 10% test"
   ]
  },
  {
   "cell_type": "markdown",
   "id": "c2d85d98",
   "metadata": {},
   "source": [
    "---\n",
    "**Step 1:** Import all necessary libraries"
   ]
  },
  {
   "cell_type": "code",
   "execution_count": 1,
   "id": "32c21d8b",
   "metadata": {},
   "outputs": [],
   "source": [
    "# Import all needed libraries\n",
    "import numpy as np\n",
    "import pandas as pd\n",
    "import matplotlib.pyplot as plt\n",
    "\n",
    "# Sklearn imports\n",
    "from sklearn.model_selection import train_test_split\n",
    "from sklearn.svm import LinearSVC\n",
    "from sklearn.linear_model import LogisticRegression\n",
    "from sklearn.metrics import accuracy_score, confusion_matrix, classification_report\n",
    "\n",
    "np.random.seed(42)  # For reproducibility"
   ]
  },
  {
   "cell_type": "markdown",
   "id": "f5c5a9d4",
   "metadata": {},
   "source": [
    "---\n",
    "**Step 2:** Load dataset and create stratified train/dev/test (10/10/80 respectively) splits to ensure balanced class distribution across all sets."
   ]
  },
  {
   "cell_type": "code",
   "execution_count": 2,
   "id": "eaa5a51e",
   "metadata": {},
   "outputs": [],
   "source": [
    "# Load Spambase dataset\n",
    "# File is located at 'spambase/spambase.data'\n",
    "data = pd.read_csv('spambase/spambase.data', header=None)"
   ]
  },
  {
   "cell_type": "code",
   "execution_count": 3,
   "id": "bb697857",
   "metadata": {},
   "outputs": [],
   "source": [
    "# Split the data (80% train, 10% dev, 10% test)\n",
    "X = data.iloc[:, :-1] # Features (matrix)\n",
    "y = data.iloc[:, -1]  # Labels (vector)\n",
    "\n",
    "# 10% test split --> 10% stored in X_test, y_test (testing set) and 90% in X_temp, y_temp\n",
    "# (for further splitting)\n",
    "X_temp, X_test, y_temp, y_test = train_test_split(X, y, test_size=0.1, random_state=42, stratify=y)\n",
    "\n",
    "# 10% dev split --> Uses 90% that's currently in X_temp, y_temp to create 10% dev (development set)\n",
    "# and stores the 80% into X_train, y_train (training set)\n",
    "X_train, X_dev, y_train, y_dev = train_test_split(X_temp, y_temp, test_size=1/9, random_state=42, stratify=y_temp)\n",
    "\n",
    "# Print summary to verify splits\n",
    "# print(\"=\"*50)\n",
    "# print(\"DATA SPLIT SUMMARY\")\n",
    "# print(\"=\"*50)\n",
    "# print(f\"Total samples: {len(data)}\")\n",
    "# print(f\"Training set:   {len(X_train):4d} ({len(X_train)/len(data)*100:.1f}%)\")\n",
    "# print(f\"Development set: {len(X_dev):4d} ({len(X_dev)/len(data)*100:.1f}%)\")\n",
    "# print(f\"Test set:        {len(X_test):4d} ({len(X_test)/len(data)*100:.1f}%)\")\n",
    "# print(f\"\\nClass distribution in training set:\")\n",
    "# print(f\"  Not Spam (0): {sum(y_train == 0):4d} ({sum(y_train == 0)/len(y_train)*100:.1f}%)\")\n",
    "# print(f\"  Spam (1):     {sum(y_train == 1):4d} ({sum(y_train == 1)/len(y_train)*100:.1f}%)\")\n",
    "# print(\"=\"*50)"
   ]
  },
  {
   "cell_type": "markdown",
   "id": "e7d6bba5",
   "metadata": {},
   "source": [
    "---\n",
    "\n",
    "**Step 3:** Implement the Perceptron algorithm --> The Perceptron is a linear classifier that learns a decision boundary by updating weights when it makes mistakes.\n",
    "\n",
    "**Algorithm:**\n",
    "- Initialize weights and bias to zero\n",
    "- For each training iteration, update weights when prediction is incorrect\n",
    "- Update rule: w += learning_rate × y × x (when wrong)"
   ]
  },
  {
   "cell_type": "code",
   "execution_count": 4,
   "id": "13d345b1",
   "metadata": {},
   "outputs": [],
   "source": [
    "# Implement Perceptron class\n",
    "\n",
    "class Perceptron:\n",
    "    def __init__(self, learning_rate=1.0, max_iterations=100, shuffle=True):\n",
    "        self.learning_rate = learning_rate\n",
    "        self.max_iterations = max_iterations\n",
    "        self.shuffle = shuffle\n",
    "    \n",
    "    def fit(self, X, y):\n",
    "        y_converted = np.where(y == 0, -1, 1) # Labels converted to -1 and +1\n",
    "\n",
    "        self.weights = np.zeros(X.shape[1]) # Start with zero weights\n",
    "        self.bias = 0 # Start with zero bias\n",
    "\n",
    "        # Training loop\n",
    "        for _ in range(self.max_iterations): # Repeat for max_iterations\n",
    "            for i in range(X.shape[0]): # For each training example\n",
    "                total = np.dot(self.weights, X[i]) + self.bias # Calculate total input\n",
    "\n",
    "                # Check if prediction is wrong\n",
    "                if (total * y_converted[i]) <= 0:\n",
    "                    self.weights += y_converted[i] * X[i] # Update weights\n",
    "                    self.bias += y_converted[i] # Update bias\n",
    "        return self\n",
    "\n",
    "    def predict(self, X):\n",
    "        # Make predictions\n",
    "        if X.ndim == 1: # Single example\n",
    "            total = np.dot(self.weights, X) + self.bias # Calculate total input\n",
    "            return 1 if total > 0 else 0 # Return class label\n",
    "        else: # Multiple examples\n",
    "            totals = np.dot(X, self.weights) + self.bias # Vectorized total inputs\n",
    "            return np.where(totals > 0, 1, 0) # Return class labels\n",
    "    \n",
    "    def score(self, X, y):\n",
    "        predictions = self.predict(X)\n",
    "        accuracy = np.mean(predictions == y) # Calculate accuracy\n",
    "        return accuracy"
   ]
  },
  {
   "cell_type": "code",
   "execution_count": 5,
   "id": "c5391c41",
   "metadata": {},
   "outputs": [
    {
     "name": "stdout",
     "output_type": "stream",
     "text": [
      "Testing Perceptron with max_iterations=100\n",
      "==================================================\n",
      "Training Accuracy: 0.8541 (85.41%)\n",
      "Dev Accuracy:      0.8674 (86.74%)\n",
      "\n",
      "==================================================\n",
      "Testing single prediction:\n",
      "Predicted: 0, Actual: 0, Correct: True\n",
      "==================================================\n",
      "Training Accuracy: 0.8541 (85.41%)\n",
      "Dev Accuracy:      0.8674 (86.74%)\n",
      "\n",
      "==================================================\n",
      "Testing single prediction:\n",
      "Predicted: 0, Actual: 0, Correct: True\n",
      "==================================================\n"
     ]
    }
   ],
   "source": [
    "# Test the Perceptron\n",
    "print(\"Testing Perceptron with max_iterations=100\")\n",
    "print(\"=\" * 50)\n",
    "\n",
    "# Create and train the perceptron\n",
    "perc = Perceptron(learning_rate=1.0, max_iterations=100)\n",
    "perc.fit(X_train.values, y_train.values)\n",
    "\n",
    "# Evaluate on training set\n",
    "train_accuracy = perc.score(X_train.values, y_train.values)\n",
    "print(f\"Training Accuracy: {train_accuracy:.4f} ({train_accuracy*100:.2f}%)\")\n",
    "\n",
    "# Evaluate on dev set\n",
    "dev_accuracy = perc.score(X_dev.values, y_dev.values)\n",
    "print(f\"Dev Accuracy:      {dev_accuracy:.4f} ({dev_accuracy*100:.2f}%)\")\n",
    "\n",
    "# Test prediction on a single example\n",
    "print(\"\\n\" + \"=\" * 50)\n",
    "print(\"Testing single prediction:\")\n",
    "sample = X_dev.values[0]\n",
    "prediction = perc.predict(sample)\n",
    "actual = y_dev.values[0]\n",
    "print(f\"Predicted: {prediction}, Actual: {actual}, Correct: {prediction == actual}\")\n",
    "print(\"=\" * 50)"
   ]
  },
  {
   "cell_type": "markdown",
   "id": "55b3db2a",
   "metadata": {},
   "source": [
    "---\n",
    "\n",
    "**Step 4:** Use the development set to find the optimal `max_iterations` hyperparameter. Testing values: 10, 50, 100, 200, 500.\n",
    "\n",
    "**Result:** Best performance with max_iterations=500 (91.09% dev accuracy)"
   ]
  },
  {
   "cell_type": "code",
   "execution_count": 6,
   "id": "057832df",
   "metadata": {},
   "outputs": [],
   "source": [
    "# Tune max_iterations using dev set\n",
    "iteration_vals = [10, 50, 100, 200, 500]  # Values to test\n",
    "\n",
    "# Store results for each value\n",
    "for i in iteration_vals:\n",
    "    perc = Perceptron(learning_rate = 1.0, max_iterations=i)  # Create perceptron with current max_iterations\n",
    "    perc.fit(X_train.values, y_train.values)  # Train perceptron\n",
    "    dev_accuracy = perc.score(X_dev.values, y_dev.values)  # Evaluate on dev set\n",
    "\n",
    "# After reviewing the results above, determine which max_iterations performed best on the dev set\n",
    "# Note: the dev accuracy kept improving with higher iterations, so we choose the highest one (500 yielded a 91.09% accuracy)\n"
   ]
  },
  {
   "cell_type": "markdown",
   "id": "3c4defea",
   "metadata": {},
   "source": [
    "---\n",
    "**Step 5:** Compare the Perceptron with two other linear models from scikit-learn.\n",
    "\n",
    "**5A. Linear SVM (LinearSVC):** Tune the regularization parameter C. Higher C means less regularization (more complex model).\n",
    "\n",
    "**Result:** Best performance with C=1.0 (94.13% dev accuracy)"
   ]
  },
  {
   "cell_type": "code",
   "execution_count": 7,
   "id": "d941fcd4",
   "metadata": {},
   "outputs": [
    {
     "name": "stdout",
     "output_type": "stream",
     "text": [
      "C:   0.00 --> Dev Accuracy: 0.9217 (92.17%)\n",
      "C:   0.01 --> Dev Accuracy: 0.9283 (92.83%)\n",
      "C:   0.10 --> Dev Accuracy: 0.9391 (93.91%)\n",
      "C:   1.00 --> Dev Accuracy: 0.9413 (94.13%)\n",
      "C:  10.00 --> Dev Accuracy: 0.9413 (94.13%)\n",
      "C: 100.00 --> Dev Accuracy: 0.9413 (94.13%)\n",
      "C: 100.00 --> Dev Accuracy: 0.9413 (94.13%)\n"
     ]
    }
   ],
   "source": [
    "# Tune LinearSVC\n",
    "C = [0.001, 0.01, 0.1, 1, 10, 100]  # Regularization parameters to test\n",
    "\n",
    "for c in C:\n",
    "    svc = LinearSVC(C=c, max_iter=10000, dual=False)  # Create LinearSVC with current C and max_iterations=10000\n",
    "    svc.fit(X_train.values, y_train.values)  # Train LinearSVC\n",
    "    dev_accuracy = svc.score(X_dev.values, y_dev.values)  # Evaluate on dev set\n",
    "\n",
    "    print(f\"C: {c:6.2f} --> Dev Accuracy: {dev_accuracy:.4f} ({dev_accuracy*100:.2f}%)\")\n",
    "\n",
    "# Note: Based on the printed results, it's clearly seen that accuracies improve with higher C values, but one it was at C=1, the C values after that stagnate\n",
    "# This means that there is no reason to go beyond C=1, and there is less risk of overfitting by going with this instead of C=100 or more"
   ]
  },
  {
   "cell_type": "markdown",
   "id": "7c95cf4a",
   "metadata": {},
   "source": [
    "**5B. Logistic Regression:** Tune both the regularization parameter C and penalty type (L2 regularization vs. none).\n",
    "\n",
    "**Result:** Best performance with penalty='l2', C=10.0 (94.35% dev accuracy)"
   ]
  },
  {
   "cell_type": "code",
   "execution_count": 8,
   "id": "609c4389",
   "metadata": {},
   "outputs": [
    {
     "name": "stdout",
     "output_type": "stream",
     "text": [
      "Penalty: l2  , C:  0.001 --> Dev Accuracy: 0.8565 (85.65%)\n",
      "Penalty: l2  , C:  0.010 --> Dev Accuracy: 0.9196 (91.96%)\n",
      "Penalty: l2  , C:  0.010 --> Dev Accuracy: 0.9196 (91.96%)\n",
      "Penalty: l2  , C:  0.100 --> Dev Accuracy: 0.9304 (93.04%)\n",
      "Penalty: l2  , C:  0.100 --> Dev Accuracy: 0.9304 (93.04%)\n",
      "Penalty: l2  , C:  1.000 --> Dev Accuracy: 0.9413 (94.13%)\n",
      "Penalty: l2  , C:  1.000 --> Dev Accuracy: 0.9413 (94.13%)\n",
      "Penalty: l2  , C: 10.000 --> Dev Accuracy: 0.9435 (94.35%)\n",
      "Penalty: l2  , C: 10.000 --> Dev Accuracy: 0.9435 (94.35%)\n",
      "Penalty: l2  , C: 100.000 --> Dev Accuracy: 0.9413 (94.13%)\n",
      "Penalty: l2  , C: 100.000 --> Dev Accuracy: 0.9413 (94.13%)\n"
     ]
    },
    {
     "name": "stderr",
     "output_type": "stream",
     "text": [
      "c:\\Users\\HP\\anaconda3\\Lib\\site-packages\\sklearn\\linear_model\\_logistic.py:1182: FutureWarning: `penalty='none'`has been deprecated in 1.2 and will be removed in 1.4. To keep the past behaviour, set `penalty=None`.\n",
      "  warnings.warn(\n",
      "c:\\Users\\HP\\anaconda3\\Lib\\site-packages\\sklearn\\linear_model\\_logistic.py:1192: UserWarning: Setting penalty=None will ignore the C and l1_ratio parameters\n",
      "  warnings.warn(\n"
     ]
    },
    {
     "name": "stdout",
     "output_type": "stream",
     "text": [
      "Penalty: none, C:  0.001 --> Dev Accuracy: 0.9413 (94.13%)\n"
     ]
    },
    {
     "name": "stderr",
     "output_type": "stream",
     "text": [
      "c:\\Users\\HP\\anaconda3\\Lib\\site-packages\\sklearn\\linear_model\\_logistic.py:1182: FutureWarning: `penalty='none'`has been deprecated in 1.2 and will be removed in 1.4. To keep the past behaviour, set `penalty=None`.\n",
      "  warnings.warn(\n",
      "c:\\Users\\HP\\anaconda3\\Lib\\site-packages\\sklearn\\linear_model\\_logistic.py:1192: UserWarning: Setting penalty=None will ignore the C and l1_ratio parameters\n",
      "  warnings.warn(\n"
     ]
    },
    {
     "name": "stdout",
     "output_type": "stream",
     "text": [
      "Penalty: none, C:  0.010 --> Dev Accuracy: 0.9413 (94.13%)\n"
     ]
    },
    {
     "name": "stderr",
     "output_type": "stream",
     "text": [
      "c:\\Users\\HP\\anaconda3\\Lib\\site-packages\\sklearn\\linear_model\\_logistic.py:1182: FutureWarning: `penalty='none'`has been deprecated in 1.2 and will be removed in 1.4. To keep the past behaviour, set `penalty=None`.\n",
      "  warnings.warn(\n",
      "c:\\Users\\HP\\anaconda3\\Lib\\site-packages\\sklearn\\linear_model\\_logistic.py:1192: UserWarning: Setting penalty=None will ignore the C and l1_ratio parameters\n",
      "  warnings.warn(\n"
     ]
    },
    {
     "name": "stdout",
     "output_type": "stream",
     "text": [
      "Penalty: none, C:  0.100 --> Dev Accuracy: 0.9413 (94.13%)\n"
     ]
    },
    {
     "name": "stderr",
     "output_type": "stream",
     "text": [
      "c:\\Users\\HP\\anaconda3\\Lib\\site-packages\\sklearn\\linear_model\\_logistic.py:1182: FutureWarning: `penalty='none'`has been deprecated in 1.2 and will be removed in 1.4. To keep the past behaviour, set `penalty=None`.\n",
      "  warnings.warn(\n"
     ]
    },
    {
     "name": "stdout",
     "output_type": "stream",
     "text": [
      "Penalty: none, C:  1.000 --> Dev Accuracy: 0.9413 (94.13%)\n"
     ]
    },
    {
     "name": "stderr",
     "output_type": "stream",
     "text": [
      "c:\\Users\\HP\\anaconda3\\Lib\\site-packages\\sklearn\\linear_model\\_logistic.py:1182: FutureWarning: `penalty='none'`has been deprecated in 1.2 and will be removed in 1.4. To keep the past behaviour, set `penalty=None`.\n",
      "  warnings.warn(\n",
      "c:\\Users\\HP\\anaconda3\\Lib\\site-packages\\sklearn\\linear_model\\_logistic.py:1192: UserWarning: Setting penalty=None will ignore the C and l1_ratio parameters\n",
      "  warnings.warn(\n"
     ]
    },
    {
     "name": "stdout",
     "output_type": "stream",
     "text": [
      "Penalty: none, C: 10.000 --> Dev Accuracy: 0.9413 (94.13%)\n"
     ]
    },
    {
     "name": "stderr",
     "output_type": "stream",
     "text": [
      "c:\\Users\\HP\\anaconda3\\Lib\\site-packages\\sklearn\\linear_model\\_logistic.py:1182: FutureWarning: `penalty='none'`has been deprecated in 1.2 and will be removed in 1.4. To keep the past behaviour, set `penalty=None`.\n",
      "  warnings.warn(\n",
      "c:\\Users\\HP\\anaconda3\\Lib\\site-packages\\sklearn\\linear_model\\_logistic.py:1192: UserWarning: Setting penalty=None will ignore the C and l1_ratio parameters\n",
      "  warnings.warn(\n"
     ]
    },
    {
     "name": "stdout",
     "output_type": "stream",
     "text": [
      "Penalty: none, C: 100.000 --> Dev Accuracy: 0.9413 (94.13%)\n"
     ]
    }
   ],
   "source": [
    "# Tune Logistic Regression\n",
    "penalties = ['l2', 'none']  # Ridge Regularization, No Regularization\n",
    "\n",
    "for penalty in penalties: \n",
    "    for c in C:\n",
    "        model = LogisticRegression(C=c, penalty=penalty, max_iter=10000)\n",
    "        model.fit(X_train.values, y_train.values)\n",
    "        dev_accuracy = model.score(X_dev.values, y_dev.values)\n",
    "\n",
    "        print(f\"Penalty: {penalty:4s}, C: {c:6.3f} --> Dev Accuracy: {dev_accuracy:.4f} ({dev_accuracy*100:.2f}%)\")\n",
    "\n",
    "# Note: Based on the results printed below, the highest accuracy came from within the l2 penaty, when C=10 recorded an accuracy of 94.35%\n",
    "# This is the optimal pick not only b/c it scored the highest, but also because this is with a penalty (meaning it uses regularization)"
   ]
  },
  {
   "cell_type": "markdown",
   "id": "ce948d86",
   "metadata": {},
   "source": [
    "---\n",
    "**Step 6:** Train final models with best hyperparameters and evaluate on the held-out test set (used only once to get unbiased performance estimates)."
   ]
  },
  {
   "cell_type": "code",
   "execution_count": 9,
   "id": "6b9e4e8e",
   "metadata": {},
   "outputs": [
    {
     "name": "stdout",
     "output_type": "stream",
     "text": [
      "============================================================\n",
      "FINAL TEST SET EVALUATION\n",
      "============================================================\n",
      "\n",
      "1. Perceptron (max_iterations=500)\n",
      "----------------------------------------\n",
      "Test Accuracy: 0.9002 (90.02%)\n",
      "Confusion Matrix:\n",
      "[[251  28]\n",
      " [ 18 164]]\n",
      "============================================================\n",
      "\n",
      "2. LinearSVC (C=1.0)\n",
      "----------------------------------------\n",
      "Test Accuracy: 0.9154 (91.54%)\n",
      "Confusion Matrix:\n",
      "[[262  17]\n",
      " [ 22 160]]\n",
      "============================================================\n",
      "\n",
      "3. Logistic Regression (penalty='l2', C=10.0)\n",
      "----------------------------------------\n",
      "Test Accuracy: 0.9002 (90.02%)\n",
      "Confusion Matrix:\n",
      "[[251  28]\n",
      " [ 18 164]]\n",
      "============================================================\n",
      "\n",
      "2. LinearSVC (C=1.0)\n",
      "----------------------------------------\n",
      "Test Accuracy: 0.9154 (91.54%)\n",
      "Confusion Matrix:\n",
      "[[262  17]\n",
      " [ 22 160]]\n",
      "============================================================\n",
      "\n",
      "3. Logistic Regression (penalty='l2', C=10.0)\n",
      "----------------------------------------\n",
      "Test Accuracy: 0.9132 (91.32%)\n",
      "Confusion Matrix:\n",
      "[[261  18]\n",
      " [ 22 160]]\n",
      "\n",
      "============================================================\n",
      "Questions to think about:\n",
      "- Which model performed best on the test set?\n",
      "- How do test accuracies compare to dev accuracies?\n",
      "- What does each confusion matrix tell you about errors?\n",
      "============================================================\n",
      "Test Accuracy: 0.9132 (91.32%)\n",
      "Confusion Matrix:\n",
      "[[261  18]\n",
      " [ 22 160]]\n",
      "\n",
      "============================================================\n",
      "Questions to think about:\n",
      "- Which model performed best on the test set?\n",
      "- How do test accuracies compare to dev accuracies?\n",
      "- What does each confusion matrix tell you about errors?\n",
      "============================================================\n"
     ]
    }
   ],
   "source": [
    "# Evaluate all models on test set\n",
    "\n",
    "print(\"=\" * 60)\n",
    "print(\"FINAL TEST SET EVALUATION\")\n",
    "print(\"=\" * 60)\n",
    "\n",
    "# 1. Perceptron with best hyperparameters (max_iterations=500)\n",
    "print(\"\\n1. Perceptron (max_iterations=500)\")\n",
    "print(\"-\" * 40)\n",
    "# Create perceptron with max_iterations=500\n",
    "perceptron = Perceptron(learning_rate=1.0, max_iterations=500)\n",
    "\n",
    "# Train on X_train, y_train\n",
    "perceptron.fit(X_train.values, y_train.values)\n",
    "\n",
    "# Get test accuracy\n",
    "test_accuracy = perceptron.score(X_test.values, y_test.values)\n",
    "print(f\"Test Accuracy: {test_accuracy:.4f} ({test_accuracy * 100:.2f}%)\")\n",
    "\n",
    "# Get predictions on test set\n",
    "y_pred = perceptron.predict(X_test.values)\n",
    "\n",
    "# Calculate confusion matrix\n",
    "confusion = confusion_matrix(y_test, y_pred)\n",
    "print(\"Confusion Matrix:\")\n",
    "print(confusion)\n",
    "\n",
    "\n",
    "print(\"=\" * 60)\n",
    "\n",
    "\n",
    "# 2. LinearSVC with best hyperparameters (C=1.0)\n",
    "print(\"\\n2. LinearSVC (C=1.0)\")\n",
    "print(\"-\" * 40)\n",
    "\n",
    "# Create LinearSVC with C=1.0, dual=False, max_iter=10000\n",
    "linear_svc = LinearSVC(C=1.0, dual=False, max_iter=10000)\n",
    "\n",
    "# Train on X_train, y_train\n",
    "linear_svc.fit(X_train, y_train)\n",
    "\n",
    "# Get test accuracy\n",
    "test_accuracy = linear_svc.score(X_test, y_test)\n",
    "print(f\"Test Accuracy: {test_accuracy:.4f} ({test_accuracy * 100:.2f}%)\")\n",
    "\n",
    "# Get predictions on test set\n",
    "y_pred = linear_svc.predict(X_test)\n",
    "# Calculate confusion matrix\n",
    "confusion = confusion_matrix(y_test, y_pred)\n",
    "print(\"Confusion Matrix:\")\n",
    "print(confusion)\n",
    "\n",
    "\n",
    "print(\"=\" * 60)\n",
    "\n",
    "\n",
    "# 3. Logistic Regression with best hyperparameters (penalty='l2', C=10.0)\n",
    "print(\"\\n3. Logistic Regression (penalty='l2', C=10.0)\")\n",
    "print(\"-\" * 40)\n",
    "# Create LogisticRegression with C=10.0, penalty='l2', max_iter=10000\n",
    "logistic_regression = LogisticRegression(C=10.0, penalty='l2', max_iter=10000)\n",
    "\n",
    "# Train on X_train, y_train\n",
    "logistic_regression.fit(X_train, y_train)\n",
    "\n",
    "# Get test accuracy\n",
    "test_accuracy = logistic_regression.score(X_test, y_test)\n",
    "print(f\"Test Accuracy: {test_accuracy:.4f} ({test_accuracy * 100:.2f}%)\")\n",
    "\n",
    "# Get predictions on test set\n",
    "y_pred = logistic_regression.predict(X_test)\n",
    "\n",
    "# Calculate confusion matrix\n",
    "confusion = confusion_matrix(y_test, y_pred)\n",
    "print(\"Confusion Matrix:\")\n",
    "print(confusion)\n",
    "\n",
    "\n",
    "print(\"\\n\" + \"=\" * 60)\n",
    "print(\"Questions to think about:\")\n",
    "print(\"- Which model performed best on the test set?\")\n",
    "print(\"- How do test accuracies compare to dev accuracies?\")\n",
    "print(\"- What does each confusion matrix tell you about errors?\")\n",
    "print(\"=\" * 60)"
   ]
  },
  {
   "cell_type": "code",
   "execution_count": 10,
   "id": "5792accc",
   "metadata": {},
   "outputs": [
    {
     "data": {
      "image/png": "[encoded data removed]",
      "text/plain": [
       "<Figure size 1500x400 with 6 Axes>"
      ]
     },
     "metadata": {},
     "output_type": "display_data"
    },
    {
     "name": "stdout",
     "output_type": "stream",
     "text": [
      "\n",
      "======================================================================\n",
      "DETAILED ERROR ANALYSIS\n",
      "======================================================================\n",
      "\n",
      "Perceptron (max_iter=500):\n",
      "  Accuracy: 90.02%\n",
      "  True Negatives (Correct Non-Spam):  251\n",
      "  False Positives (Non-Spam → Spam):   28\n",
      "  False Negatives (Spam → Non-Spam):   18\n",
      "  True Positives (Correct Spam):      164\n",
      "  False Positive Rate: 10.04%\n",
      "  False Negative Rate: 9.89%\n",
      "\n",
      "LinearSVC (C=1.0):\n",
      "  Accuracy: 91.54%\n",
      "  True Negatives (Correct Non-Spam):  262\n",
      "  False Positives (Non-Spam → Spam):   17\n",
      "  False Negatives (Spam → Non-Spam):   22\n",
      "  True Positives (Correct Spam):      160\n",
      "  False Positive Rate: 6.09%\n",
      "  False Negative Rate: 12.09%\n",
      "\n",
      "Logistic Regression (C=10.0, penalty=l2):\n",
      "  Accuracy: 91.32%\n",
      "  True Negatives (Correct Non-Spam):  261\n",
      "  False Positives (Non-Spam → Spam):   18\n",
      "  False Negatives (Spam → Non-Spam):   22\n",
      "  True Positives (Correct Spam):      160\n",
      "  False Positive Rate: 6.45%\n",
      "  False Negative Rate: 12.09%\n",
      "\n",
      "======================================================================\n"
     ]
    }
   ],
   "source": [
    "# Visualize confusion matrices (for report)\n",
    "\n",
    "# First, get the confusion matrices for all three models\n",
    "# (Run the cell above first)\n",
    "\n",
    "# Get confusion matrices\n",
    "cm_perceptron = confusion_matrix(y_test, perceptron.predict(X_test.values))\n",
    "cm_svc = confusion_matrix(y_test, linear_svc.predict(X_test))\n",
    "cm_logreg = confusion_matrix(y_test, logistic_regression.predict(X_test))\n",
    "\n",
    "# Create a figure with 3 subplots side-by-side\n",
    "fig, axes = plt.subplots(1, 3, figsize=(15, 4))\n",
    "\n",
    "# Model names and confusion matrices\n",
    "models = [\n",
    "    ('Perceptron\\n(max_iter=500)', cm_perceptron, '90.02%'),\n",
    "    ('LinearSVC\\n(C=1.0)', cm_svc, '91.54%'),\n",
    "    ('Logistic Regression\\n(C=10.0, penalty=l2)', cm_logreg, '91.32%')\n",
    "]\n",
    "\n",
    "# Plot each confusion matrix\n",
    "for idx, (name, cm, acc) in enumerate(models):\n",
    "    ax = axes[idx]\n",
    "    \n",
    "    # Create heatmap\n",
    "    im = ax.imshow(cm, cmap='Blues', aspect='auto')\n",
    "    \n",
    "    # Add colorbar\n",
    "    plt.colorbar(im, ax=ax, fraction=0.046, pad=0.04)\n",
    "    \n",
    "    # Set labels\n",
    "    ax.set_xlabel('Predicted Label', fontsize=11)\n",
    "    ax.set_ylabel('True Label', fontsize=11)\n",
    "    ax.set_title(f'{name}\\nAccuracy: {acc}', fontsize=12, fontweight='bold')\n",
    "    \n",
    "    # Set tick labels\n",
    "    ax.set_xticks([0, 1])\n",
    "    ax.set_yticks([0, 1])\n",
    "    ax.set_xticklabels(['Not Spam', 'Spam'])\n",
    "    ax.set_yticklabels(['Not Spam', 'Spam'])\n",
    "    \n",
    "    # Add text annotations for each cell\n",
    "    for i in range(2):\n",
    "        for j in range(2):\n",
    "            text = ax.text(j, i, cm[i, j],\n",
    "                          ha=\"center\", va=\"center\", \n",
    "                          color=\"white\" if cm[i, j] > cm.max() / 2 else \"black\",\n",
    "                          fontsize=14, fontweight='bold')\n",
    "\n",
    "plt.tight_layout()\n",
    "plt.suptitle('Confusion Matrix Comparison - Spambase Test Set', \n",
    "             fontsize=14, fontweight='bold', y=1.02)\n",
    "plt.show()\n",
    "\n",
    "# Print summary statistics\n",
    "print(\"\\n\" + \"=\" * 70)\n",
    "print(\"DETAILED ERROR ANALYSIS\")\n",
    "print(\"=\" * 70)\n",
    "\n",
    "for name, cm, acc in models:\n",
    "    tn, fp, fn, tp = cm.ravel()\n",
    "    print(f\"\\n{name.replace(chr(10), ' ')}:\")\n",
    "    print(f\"  Accuracy: {acc}\")\n",
    "    print(f\"  True Negatives (Correct Non-Spam):  {tn:3d}\")\n",
    "    print(f\"  False Positives (Non-Spam → Spam):  {fp:3d}\")\n",
    "    print(f\"  False Negatives (Spam → Non-Spam):  {fn:3d}\")\n",
    "    print(f\"  True Positives (Correct Spam):      {tp:3d}\")\n",
    "    print(f\"  False Positive Rate: {fp/(tn+fp)*100:.2f}%\")\n",
    "    print(f\"  False Negative Rate: {fn/(fn+tp)*100:.2f}%\")\n",
    "\n",
    "print(\"\\n\" + \"=\" * 70)"
   ]
  }
 ],
 "metadata": {
  "kernelspec": {
   "display_name": "base",
   "language": "python",
   "name": "python3"
  },
  "language_info": {
   "codemirror_mode": {
    "name": "ipython",
    "version": 3
   },
   "file_extension": ".py",
   "mimetype": "text/x-python",
   "name": "python",
   "nbconvert_exporter": "python",
   "pygments_lexer": "ipython3",
   "version": "3.11.5"
  }
 },
 "nbformat": 4,
 "nbformat_minor": 5
}
